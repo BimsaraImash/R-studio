{
 "cells": [
  {
   "cell_type": "code",
   "execution_count": null,
   "id": "4fa99426-58d7-41c2-8343-e2b3881f87b7",
   "metadata": {},
   "outputs": [
    {
     "name": "stderr",
     "output_type": "stream",
     "text": [
      "Installing package into 'C:/Users/bimsa/AppData/Local/R/win-library/4.4'\n",
      "(as 'lib' is unspecified)\n",
      "\n",
      "also installing the dependencies 'colorspace', 'farver', 'labeling', 'munsell', 'RColorBrewer', 'viridisLite', 'gtable', 'isoband', 'scales'\n",
      "\n",
      "\n"
     ]
    }
   ],
   "source": [
    "install.packages(\"ggplot2\")\n",
    "library(ggplot2)\n",
    "ggplot(mtcars, aes(x = wt, y = mpg)) + geom_point()\n"
   ]
  },
  {
   "cell_type": "code",
   "execution_count": null,
   "id": "80451367-4d86-494d-b18a-c01160529d77",
   "metadata": {},
   "outputs": [],
   "source": []
  }
 ],
 "metadata": {
  "kernelspec": {
   "display_name": "R",
   "language": "R",
   "name": "ir"
  },
  "language_info": {
   "codemirror_mode": "r",
   "file_extension": ".r",
   "mimetype": "text/x-r-source",
   "name": "R",
   "pygments_lexer": "r",
   "version": "4.4.2"
  }
 },
 "nbformat": 4,
 "nbformat_minor": 5
}
